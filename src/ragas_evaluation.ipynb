{
 "cells": [
  {
   "attachments": {},
   "cell_type": "markdown",
   "metadata": {},
   "source": [
    "# Ragas Evaluation"
   ]
  },
  {
   "cell_type": "code",
   "execution_count": 8,
   "metadata": {},
   "outputs": [],
   "source": [
    "# LIBRARIES IMPORT\n",
    "import pandas as pd\n",
    "import numpy as np\n",
    "\n",
    "import ragas\n",
    "import openai\n",
    "import langchain"
   ]
  },
  {
   "cell_type": "code",
   "execution_count": 9,
   "metadata": {},
   "outputs": [],
   "source": [
    "# MODULES IMPORT\n",
    "from query_chatbot_by_retriever import load_database\n",
    "from get_chunk_stats import reconstruct_chunks"
   ]
  },
  {
   "attachments": {},
   "cell_type": "markdown",
   "metadata": {},
   "source": [
    "## Import the data"
   ]
  },
  {
   "cell_type": "code",
   "execution_count": 15,
   "metadata": {},
   "outputs": [
    {
     "name": "stderr",
     "output_type": "stream",
     "text": [
      "2024-05-21 17:44:25.097 | INFO     | query_chatbot_by_retriever:load_database:179 - Loading the vector database.\n",
      "2024-05-21 17:44:25.174 | INFO     | query_chatbot_by_retriever:load_database:185 - Chunks in the database: 1312\n",
      "2024-05-21 17:44:25.176 | SUCCESS  | query_chatbot_by_retriever:load_database:187 - Vector database prepared successfully.\n",
      "\n",
      "2024-05-21 17:44:25.177 | INFO     | get_chunk_stats:reconstruct_chunks:224 - Reconstructing the chunks from the vector database...\n",
      "2024-05-21 17:44:25.276 | SUCCESS  | get_chunk_stats:reconstruct_chunks:238 - Reconstructed 1312 chunks from the vector database successfully.\n",
      "\n"
     ]
    },
    {
     "name": "stdout",
     "output_type": "stream",
     "text": [
      "<class 'list'>\n"
     ]
    }
   ],
   "source": [
    "# Load Chroma database\n",
    "vector_db_path = \"../chroma_db\"\n",
    "vector_db = load_database(vector_db_path)[0]\n",
    "\n",
    "# Get the chunks\n",
    "chunks = reconstruct_chunks(vector_db)\n",
    "print(chunks[0])"
   ]
  },
  {
   "cell_type": "markdown",
   "metadata": {},
   "source": []
  }
 ],
 "metadata": {
  "kernelspec": {
   "display_name": "biopyassistantenv",
   "language": "python",
   "name": "python3"
  },
  "language_info": {
   "codemirror_mode": {
    "name": "ipython",
    "version": 3
   },
   "file_extension": ".py",
   "mimetype": "text/x-python",
   "name": "python",
   "nbconvert_exporter": "python",
   "pygments_lexer": "ipython3",
   "version": "3.11.9"
  },
  "orig_nbformat": 4,
  "vscode": {
   "interpreter": {
    "hash": "85e9f3322d4fc95f5009a81da63171dd3d9c13ac3d28b79e3b21ee5afcc1e3f3"
   }
  }
 },
 "nbformat": 4,
 "nbformat_minor": 2
}
